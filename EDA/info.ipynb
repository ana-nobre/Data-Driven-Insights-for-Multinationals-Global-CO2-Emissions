{
 "cells": [
  {
   "cell_type": "markdown",
   "id": "6d521134",
   "metadata": {},
   "source": [
    "## 📘 Glossary of Dataset Variables"
   ]
  },
  {
   "cell_type": "markdown",
   "id": "a83c2000",
   "metadata": {},
   "source": [
    "### 🔹 Country and Year Identification"
   ]
  },
  {
   "cell_type": "markdown",
   "id": "5e8769fc",
   "metadata": {},
   "source": [
    "| **Column**    | **Description**                                                      |\n",
    "| ------------- | -------------------------------------------------------------------- |\n",
    "| `Description` | Description of the country or territory.                             |\n",
    "| `Name`        | Name of the country.                                                 |\n",
    "| `year`        | Year of reference for the data.                                      |\n",
    "| `iso_code`    | Three-letter ISO country code (e.g., ESP for Spain, BRA for Brazil). |\n",
    "| `Continent`   | Continent to which the country belongs.                              |\n"
   ]
  },
  {
   "cell_type": "markdown",
   "id": "17a7d644",
   "metadata": {},
   "source": [
    "### 👥 Population and Economy"
   ]
  },
  {
   "cell_type": "markdown",
   "id": "79042e6f",
   "metadata": {},
   "source": [
    "| **Column**   | **Description**                                                                           |\n",
    "| ------------ | ----------------------------------------------------------------------------------------- |\n",
    "| `population` | Total population of the country in that year.                                             |\n",
    "| `gdp`        | Gross Domestic Product (GDP), in constant US dollars. Represents the size of the economy. |\n"
   ]
  },
  {
   "cell_type": "markdown",
   "id": "20b0d777",
   "metadata": {},
   "source": [
    "### 🌍 Carbon Dioxide (CO₂) Emissions\n",
    "\n",
    "CO₂ is the most important greenhouse gas emitted by human activities (burning of coal, oil, gas, and cement production)."
   ]
  },
  {
   "cell_type": "markdown",
   "id": "1db44f17",
   "metadata": {},
   "source": [
    "| **Column**          | **Description**                                                          |\n",
    "| ------------------- | ------------------------------------------------------------------------ |\n",
    "| `co2`               | Total CO₂ emissions (excluding land-use change – LUC).                   |\n",
    "| `co2_including_luc` | CO₂ emissions including land-use change (e.g., deforestation).           |\n",
    "| `co2_per_capita`    | CO₂ emissions per person.                                                |\n",
    "| `co2_per_gdp`       | CO₂ emissions per unit of GDP (economic efficiency regarding emissions). |\n",
    "| `co2_growth_abs`    | Absolute change in CO₂ emissions compared to the previous year.          |\n",
    "| `co2_growth_prct`   | Percentage change in CO₂ emissions compared to the previous year.        |\n"
   ]
  },
  {
   "cell_type": "markdown",
   "id": "92d972c7",
   "metadata": {},
   "source": [
    "### 🔥 Sources of CO₂\n",
    "\n",
    "Different activities generate CO₂: energy, industry, and land-use change."
   ]
  },
  {
   "cell_type": "markdown",
   "id": "94b62b15",
   "metadata": {},
   "source": [
    "| **Column**            | **Description**                                                                                                 |\n",
    "| --------------------- | --------------------------------------------------------------------------------------------------------------- |\n",
    "| `coal_co2`            | Emissions from coal use.                                                                                        |\n",
    "| `gas_co2`             | Emissions from natural gas use.                                                                                 |\n",
    "| `oil_co2`             | Emissions from oil use.                                                                                         |\n",
    "| `cement_co2`          | Emissions from cement production.                                                                               |\n",
    "| `flaring_co2`         | Emissions from flaring (burning of unused gas at oil wells).                                                    |\n",
    "| `land_use_change_co2` | CO₂ released from land-use change (e.g., deforestation).                                                        |\n",
    "| `other_industry_co2`  | Other industrial CO₂ emissions.                                                                                 |\n",
    "| `consumption_co2`     | Emissions associated with domestic consumption (adjusted for trade).                                            |\n",
    "| `trade_co2`           | Net CO₂ balance associated with international trade (e.g., imported goods produced with high carbon footprint). |\n"
   ]
  },
  {
   "cell_type": "markdown",
   "id": "9dec8858",
   "metadata": {},
   "source": [
    "### 📈 Cumulative (Historical) Emissions\n",
    "\n",
    "Show the historical responsibility of each country in climate change."
   ]
  },
  {
   "cell_type": "markdown",
   "id": "95cc1c7f",
   "metadata": {},
   "source": [
    "| **Column**                     | **Description**                                     |\n",
    "| ------------------------------ | --------------------------------------------------- |\n",
    "| `cumulative_co2`               | Total historical CO₂ emissions.                     |\n",
    "| `cumulative_co2_including_luc` | Historical emissions including land-use change.     |\n",
    "| `cumulative_coal_co2`          | Historical emissions from coal.                     |\n",
    "| `cumulative_gas_co2`           | Historical emissions from gas.                      |\n",
    "| `cumulative_oil_co2`           | Historical emissions from oil.                      |\n",
    "| `cumulative_cement_co2`        | Historical emissions from cement.                   |\n",
    "| `cumulative_flaring_co2`       | Historical emissions from flaring.                  |\n",
    "| `cumulative_luc_co2`           | Historical emissions from land-use change.          |\n",
    "| `cumulative_other_co2`         | Historical emissions from other industrial sources. |\n"
   ]
  },
  {
   "cell_type": "markdown",
   "id": "3b39af77",
   "metadata": {},
   "source": [
    "### ⚡ Energy\n",
    "\n",
    "Energy use is the main driver of CO₂ emissions."
   ]
  },
  {
   "cell_type": "markdown",
   "id": "a1f564ef",
   "metadata": {},
   "source": [
    "| **Column**                   | **Description**                                                         |\n",
    "| ---------------------------- | ----------------------------------------------------------------------- |\n",
    "| `primary_energy_consumption` | Total primary energy consumption (coal, oil, gas, renewables, nuclear). |\n",
    "| `energy_per_capita`          | Energy consumption per person.                                          |\n",
    "| `energy_per_gdp`             | Energy consumption per unit of GDP (energy efficiency).                 |\n"
   ]
  },
  {
   "cell_type": "markdown",
   "id": "df5ff3fe",
   "metadata": {},
   "source": [
    "### 🌱 Other Greenhouse Gases\n",
    "\n",
    "In addition to CO₂, there are other gases with a stronger warming effect."
   ]
  },
  {
   "cell_type": "markdown",
   "id": "b1a207af",
   "metadata": {},
   "source": [
    "| **Column**                 | **Description**                                                                        |\n",
    "| -------------------------- | -------------------------------------------------------------------------------------- |\n",
    "| `methane`                  | Methane (CH₄) emissions, a gas with 28 times the warming effect of CO₂ over 100 years. |\n",
    "| `nitrous_oxide`            | Nitrous oxide (N₂O) emissions, 273 times more powerful than CO₂.                       |\n",
    "| `total_ghg`                | Total greenhouse gas emissions (including land-use change).                            |\n",
    "| `total_ghg_excluding_lucf` | Total greenhouse gas emissions excluding land-use change.                              |\n",
    "| `ghg_per_capita`           | Greenhouse gas emissions per person.                                                   |\n"
   ]
  },
  {
   "cell_type": "markdown",
   "id": "e71eade6",
   "metadata": {},
   "source": [
    "### 🌡️ Temperature Change\n",
    "\n",
    "Estimates how much each gas contributes to global warming."
   ]
  },
  {
   "cell_type": "markdown",
   "id": "2afa56cd",
   "metadata": {},
   "source": [
    "| **Column**                             | **Description**                                             |\n",
    "| -------------------------------------- | ----------------------------------------------------------- |\n",
    "| `temperature_change_from_co2`          | Temperature change attributable to CO₂.                     |\n",
    "| `temperature_change_from_ch4`          | Temperature change attributable to CH₄.                     |\n",
    "| `temperature_change_from_n2o`          | Temperature change attributable to N₂O.                     |\n",
    "| `temperature_change_from_ghg`          | Temperature change attributable to all greenhouse gases.    |\n",
    "| `share_of_temperature_change_from_ghg` | Percentage of global warming explained by greenhouse gases. |\n"
   ]
  },
  {
   "cell_type": "markdown",
   "id": "dbd9e2bd",
   "metadata": {},
   "source": [
    "### 🌐 Global Shares\n",
    "\n",
    "Indicates the percentage of global emissions corresponding to each country."
   ]
  },
  {
   "cell_type": "markdown",
   "id": "ac4d06d8",
   "metadata": {},
   "source": [
    "| **Column**                       | **Description**                                    |\n",
    "| -------------------------------- | -------------------------------------------------- |\n",
    "| `share_global_co2`               | Country’s share of global CO₂ emissions.           |\n",
    "| `share_global_co2_including_luc` | Share including land-use change.                   |\n",
    "| `share_global_cement_co2`        | Global share from cement.                          |\n",
    "| `share_global_coal_co2`          | Global share from coal.                            |\n",
    "| `share_global_gas_co2`           | Global share from gas.                             |\n",
    "| `share_global_oil_co2`           | Global share from oil.                             |\n",
    "| `share_global_luc_co2`           | Global share from land-use change.                 |\n",
    "| `share_global_other_co2`         | Global share from other industries.                |\n",
    "| `share_global_cumulative_co2`    | Historical cumulative share of CO₂.                |\n",
    "| `share_global_cumulative_*`      | Variants for coal, gas, oil, cement, flaring, etc. |\n"
   ]
  },
  {
   "cell_type": "markdown",
   "id": "db840472",
   "metadata": {},
   "source": [
    "### 📌 In addition to total CO₂ emissions, the dataset includes more specific categories that capture **different sources of greenhouse gases and energy use**\n",
    "\n",
    "- **`cement_co2`**: CO₂ emissions from cement production. Cement manufacturing releases CO₂ both from burning fuel and from the chemical process of turning limestone into clinker. It is tracked separately because it is a major industrial source outside of energy.\n",
    "\n",
    "- **`co2_including_luc`**: CO₂ emissions that include **Land-Use Change (LUC)**, such as deforestation, forest degradation, and conversion of land for agriculture.  \n",
    "  - **Includes**: emissions from land clearance, forest fires, and soil carbon loss.  \n",
    "  - **Does not include**: fossil fuel burning or industrial processes.  \n",
    "  - **Difference**: `co2` measures only fossil fuel and industry emissions, while `co2_including_luc` adds emissions from land-use change, which are significant in many developing regions.\n",
    "\n",
    "- **`flaring_co2` / `cumulative_flaring_co2`**: CO₂ emissions from gas flaring, the practice of burning off natural gas released during oil extraction when it is not captured for use. *Cumulative* values show the historical contribution of this practice over time.\n",
    "\n",
    "- **`ghg_per_capita`**: Total greenhouse gas emissions (CO₂, methane, nitrous oxide, and others) per person. This metric helps compare the climate impact of individuals across countries, accounting for differences in population size.\n",
    "\n",
    "- **`primary_energy_consumption`**: Total consumption of primary energy (coal, oil, gas, renewables, and nuclear). This indicator shows the overall energy demand of a country before conversion into electricity or final energy use.\n",
    "\n",
    "- **`energy_per_capita`**: Energy consumption per person. It helps measure lifestyle and development differences across countries, as well as the efficiency of energy use relative to population size.\n"
   ]
  },
  {
   "cell_type": "markdown",
   "id": "6b000692",
   "metadata": {},
   "source": [
    "### 📌 Decision Making on Using Data Without LUC\n",
    "\n",
    "### 🔹 1. Nature of Emission Sources  \n",
    "* **Without LUC (only fossil fuels and industry):**  \n",
    "  * Includes coal, oil, and gas combustion, cement production, and other industrial processes.  \n",
    "  * These emissions are relatively well measured and reported because they rely on energy records, national energy balances, and industrial production data.  \n",
    "\n",
    "* **With LUC (including Land-Use Change):**  \n",
    "  * Adds CO₂ emissions (and absorptions) associated with deforestation, forest degradation, fires, large-scale agriculture, peatland drainage, etc.  \n",
    "  * These estimates are much more uncertain and variable because they depend on satellite models, forest inventories, and assumptions about biomass and soils.  \n",
    "\n",
    "### 🔹 2. Uncertainty in Estimates  \n",
    "* The estimation error for fossil fuel emissions is usually around ±5–10%.  \n",
    "* For LUC, it can exceed ±50%, since different models (FAO, Houghton, Hansen, IPCC Tier 1–3) give very different results.  \n",
    "* This is why many analyses present both values, so researchers can:  \n",
    "  * Use **without LUC** when seeking consistency and comparability.  \n",
    "  * Use **with LUC** when aiming for a more complete balance of the global carbon cycle.  \n",
    "\n",
    "### 🔹 3. International Comparability  \n",
    "* Some countries emit a lot due to LUC (e.g., Brazil, Indonesia, Democratic Republic of the Congo) because of deforestation.  \n",
    "* Others emit almost nothing from LUC (e.g., Europe, where forest cover is actually increasing).  \n",
    "* Separating both metrics allows for fairer comparisons:  \n",
    "  * **Industrial countries** → fossil fuel emissions dominate.  \n",
    "  * **Tropical countries** → LUC emissions can represent a very large share of their total footprint.  \n"
   ]
  }
 ],
 "metadata": {
  "language_info": {
   "name": "python"
  }
 },
 "nbformat": 4,
 "nbformat_minor": 5
}
